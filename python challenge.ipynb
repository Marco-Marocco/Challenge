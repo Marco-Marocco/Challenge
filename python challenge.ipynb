{
 "cells": [
  {
   "cell_type": "code",
   "execution_count": 14,
   "id": "7be361f1",
   "metadata": {},
   "outputs": [],
   "source": [
    "def exercise(A,B):\n",
    "    \n",
    "    C= A*B\n",
    "    print(f'A={A} and C={C}')\n",
    "    \n",
    "    if C==4:\n",
    "        print(f'Success: the results are: A={A} and B={B}')    "
   ]
  },
  {
   "cell_type": "code",
   "execution_count": 58,
   "id": "d837517f",
   "metadata": {},
   "outputs": [
    {
     "name": "stdout",
     "output_type": "stream",
     "text": [
      "A=2 and C=4\n",
      "Success: the results are: A=2 and B=2\n"
     ]
    }
   ],
   "source": [
    "import random\n",
    "\n",
    "A=random.randint(0, 9)\n",
    "B=random.randint(0, 9)\n",
    "\n",
    "exercise(A,B)"
   ]
  }
 ],
 "metadata": {
  "kernelspec": {
   "display_name": "Python 3 (ipykernel)",
   "language": "python",
   "name": "python3"
  },
  "language_info": {
   "codemirror_mode": {
    "name": "ipython",
    "version": 3
   },
   "file_extension": ".py",
   "mimetype": "text/x-python",
   "name": "python",
   "nbconvert_exporter": "python",
   "pygments_lexer": "ipython3",
   "version": "3.10.9"
  }
 },
 "nbformat": 4,
 "nbformat_minor": 5
}
