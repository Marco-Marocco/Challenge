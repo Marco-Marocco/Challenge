{
 "cells": [
  {
   "cell_type": "code",
   "execution_count": 1,
   "id": "7be361f1",
   "metadata": {},
   "outputs": [],
   "source": [
    "def exercise(A,B):\n",
    "    \n",
    "    C= A*B\n",
    "        \n",
    "    if C==4:\n",
    "        print(f'Success: the results are: A={A} and B={B}')    \n",
    "    else:\n",
    "        print(f'A={A} and C={C}')"
   ]
  },
  {
   "cell_type": "code",
   "execution_count": 26,
   "id": "d837517f",
   "metadata": {},
   "outputs": [
    {
     "name": "stdout",
     "output_type": "stream",
     "text": [
      "Success: the results are: A=4 and B=1\n"
     ]
    }
   ],
   "source": [
    "import random\n",
    "\n",
    "A=random.randint(1, 9)\n",
    "B=random.randint(1, 9)\n",
    "\n",
    "exercise(A,B)"
   ]
  },
  {
   "cell_type": "code",
   "execution_count": null,
   "id": "b478cf48",
   "metadata": {},
   "outputs": [],
   "source": []
  }
 ],
 "metadata": {
  "kernelspec": {
   "display_name": "Python 3 (ipykernel)",
   "language": "python",
   "name": "python3"
  },
  "language_info": {
   "codemirror_mode": {
    "name": "ipython",
    "version": 3
   },
   "file_extension": ".py",
   "mimetype": "text/x-python",
   "name": "python",
   "nbconvert_exporter": "python",
   "pygments_lexer": "ipython3",
   "version": "3.10.9"
  }
 },
 "nbformat": 4,
 "nbformat_minor": 5
}
